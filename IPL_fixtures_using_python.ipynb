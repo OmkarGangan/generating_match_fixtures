{
 "cells": [
  {
   "cell_type": "markdown",
   "metadata": {},
   "source": [
    "Generating Match Fixtures using Python"
   ]
  },
  {
   "cell_type": "code",
   "execution_count": 3,
   "metadata": {},
   "outputs": [
    {
     "name": "stdout",
     "output_type": "stream",
     "text": [
      "\t🏆🏆🏆 IPL 2021 Fixtures 🏆🏆🏆\n",
      "\n",
      "Match 1 : SUNRISERS HYDERABAD vs PUNJAB KINGS\n",
      "Match 2 : CHENNAI SUPER KINGS vs DELHI CAPITALS\n",
      "Match 3 : RAJASTHAN ROYALS vs KOLKATA KNIGHT RIDERS\n",
      "Match 4 : DELHI CAPITALS vs PUNJAB KINGS\n",
      "Match 5 : KOLKATA KNIGHT RIDERS vs CHENNAI SUPER KINGS\n",
      "Match 6 : MUMBAI INDIANS vs CHENNAI SUPER KINGS\n",
      "Match 7 : KOLKATA KNIGHT RIDERS vs SUNRISERS HYDERABAD\n",
      "Match 8 : ROYAL CHALLENGERS BANGALORE vs DELHI CAPITALS\n",
      "Match 9 : KOLKATA KNIGHT RIDERS vs RAJASTHAN ROYALS\n",
      "Match 10 : ROYAL CHALLENGERS BANGALORE vs SUNRISERS HYDERABAD\n",
      "Match 11 : DELHI CAPITALS vs ROYAL CHALLENGERS BANGALORE\n",
      "Match 12 : CHENNAI SUPER KINGS vs RAJASTHAN ROYALS\n",
      "Match 13 : SUNRISERS HYDERABAD vs DELHI CAPITALS\n",
      "Match 14 : DELHI CAPITALS vs CHENNAI SUPER KINGS\n",
      "Match 15 : ROYAL CHALLENGERS BANGALORE vs PUNJAB KINGS\n",
      "Match 16 : ROYAL CHALLENGERS BANGALORE vs RAJASTHAN ROYALS\n",
      "Match 17 : DELHI CAPITALS vs MUMBAI INDIANS\n",
      "Match 18 : PUNJAB KINGS vs SUNRISERS HYDERABAD\n",
      "Match 19 : SUNRISERS HYDERABAD vs CHENNAI SUPER KINGS\n",
      "Match 20 : RAJASTHAN ROYALS vs CHENNAI SUPER KINGS\n",
      "Match 21 : DELHI CAPITALS vs SUNRISERS HYDERABAD\n",
      "Match 22 : ROYAL CHALLENGERS BANGALORE vs KOLKATA KNIGHT RIDERS\n",
      "Match 23 : MUMBAI INDIANS vs ROYAL CHALLENGERS BANGALORE\n",
      "Match 24 : CHENNAI SUPER KINGS vs PUNJAB KINGS\n",
      "Match 25 : SUNRISERS HYDERABAD vs RAJASTHAN ROYALS\n",
      "Match 26 : ROYAL CHALLENGERS BANGALORE vs CHENNAI SUPER KINGS\n",
      "Match 27 : KOLKATA KNIGHT RIDERS vs MUMBAI INDIANS\n",
      "Match 28 : RAJASTHAN ROYALS vs SUNRISERS HYDERABAD\n",
      "Match 29 : RAJASTHAN ROYALS vs PUNJAB KINGS\n",
      "Match 30 : PUNJAB KINGS vs DELHI CAPITALS\n",
      "Match 31 : KOLKATA KNIGHT RIDERS vs ROYAL CHALLENGERS BANGALORE\n",
      "Match 32 : SUNRISERS HYDERABAD vs MUMBAI INDIANS\n",
      "Match 33 : CHENNAI SUPER KINGS vs MUMBAI INDIANS\n",
      "Match 34 : SUNRISERS HYDERABAD vs ROYAL CHALLENGERS BANGALORE\n",
      "Match 35 : KOLKATA KNIGHT RIDERS vs DELHI CAPITALS\n",
      "Match 36 : PUNJAB KINGS vs MUMBAI INDIANS\n",
      "Match 37 : RAJASTHAN ROYALS vs ROYAL CHALLENGERS BANGALORE\n",
      "Match 38 : DELHI CAPITALS vs KOLKATA KNIGHT RIDERS\n",
      "Match 39 : SUNRISERS HYDERABAD vs KOLKATA KNIGHT RIDERS\n",
      "Match 40 : MUMBAI INDIANS vs SUNRISERS HYDERABAD\n",
      "Match 41 : KOLKATA KNIGHT RIDERS vs PUNJAB KINGS\n",
      "Match 42 : DELHI CAPITALS vs RAJASTHAN ROYALS\n",
      "Match 43 : CHENNAI SUPER KINGS vs KOLKATA KNIGHT RIDERS\n",
      "Match 44 : CHENNAI SUPER KINGS vs SUNRISERS HYDERABAD\n",
      "Match 45 : MUMBAI INDIANS vs KOLKATA KNIGHT RIDERS\n",
      "Match 46 : PUNJAB KINGS vs ROYAL CHALLENGERS BANGALORE\n",
      "Match 47 : ROYAL CHALLENGERS BANGALORE vs MUMBAI INDIANS\n",
      "Match 48 : PUNJAB KINGS vs RAJASTHAN ROYALS\n",
      "Match 49 : RAJASTHAN ROYALS vs DELHI CAPITALS\n",
      "Match 50 : PUNJAB KINGS vs KOLKATA KNIGHT RIDERS\n",
      "Match 51 : MUMBAI INDIANS vs DELHI CAPITALS\n",
      "Match 52 : CHENNAI SUPER KINGS vs ROYAL CHALLENGERS BANGALORE\n",
      "Match 53 : RAJASTHAN ROYALS vs MUMBAI INDIANS\n",
      "Match 54 : PUNJAB KINGS vs CHENNAI SUPER KINGS\n",
      "Match 55 : MUMBAI INDIANS vs PUNJAB KINGS\n",
      "Match 56 : MUMBAI INDIANS vs RAJASTHAN ROYALS\n",
      "\n",
      "🏆🏆🏆🏆🏆🏆🏆🏆🏆🏆🏆🏆🏆🏆🏆🏆🏆🏆🏆🏆🏆🏆🏆🏆🏆🏆🏆\n"
     ]
    }
   ],
   "source": [
    "from random import shuffle\n",
    "import time\n",
    "\n",
    "# list of teams\n",
    "teams=['MUMBAI INDIANS','ROYAL CHALLENGERS BANGALORE','CHENNAI SUPER KINGS','PUNJAB KINGS',\n",
    "         'KOLKATA KNIGHT RIDERS','SUNRISERS HYDERABAD','RAJASTHAN ROYALS','DELHI CAPITALS']\n",
    "# list for match\n",
    "matches = []\n",
    "\n",
    "# iterating through list of teams\n",
    "for i in range(len(teams)):\n",
    "    for j in range(len(teams)):\n",
    "        \n",
    "        # if i and j is not equal\n",
    "        if teams[i] != teams[j]:\n",
    "            # then append to list of matches\n",
    "            matches.append(teams[i]+' vs '+teams[j])\n",
    "            \n",
    "# shuffle list of matches\n",
    "shuffle(matches)\n",
    "# variable t to store unicode of trophy emoji\n",
    "t = '\\U0001F3C6'\n",
    "\n",
    "# print output\n",
    "print('\\t{} IPL 2021 Fixtures {}'.format(t*3,t*3))\n",
    "print()\n",
    "for i in range(len(matches)):\n",
    "    time.sleep(0.2)\n",
    "    print('Match {} : {}'.format(i+1,matches[i])) \n",
    "print()\n",
    "print(t*27)"
   ]
  }
 ],
 "metadata": {
  "kernelspec": {
   "display_name": "Python 3",
   "language": "python",
   "name": "python3"
  },
  "language_info": {
   "codemirror_mode": {
    "name": "ipython",
    "version": 3
   },
   "file_extension": ".py",
   "mimetype": "text/x-python",
   "name": "python",
   "nbconvert_exporter": "python",
   "pygments_lexer": "ipython3",
   "version": "3.9.1"
  }
 },
 "nbformat": 4,
 "nbformat_minor": 4
}
